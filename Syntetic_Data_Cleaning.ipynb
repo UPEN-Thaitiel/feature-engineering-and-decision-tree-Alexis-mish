{
 "cells": [
  {
   "cell_type": "markdown",
   "id": "bf7ade20",
   "metadata": {},
   "source": [
    "#### Student Depression Variable Imputation\n",
    "\n",
    "**Name:** Alexis Michell Hernandez Robledo\n"
   ]
  },
  {
   "cell_type": "markdown",
   "id": "f5955074",
   "metadata": {},
   "source": [
    "#### Import Libraries"
   ]
  },
  {
   "cell_type": "code",
   "execution_count": 1,
   "id": "ca7cdaaa",
   "metadata": {},
   "outputs": [],
   "source": [
    "import pandas as pd\n",
    "import numpy as np\n",
    "import seaborn as sns\n",
    "import matplotlib.pyplot as plt"
   ]
  },
  {
   "cell_type": "markdown",
   "id": "b6a4bd2a",
   "metadata": {},
   "source": [
    "#### Read Dataset"
   ]
  },
  {
   "cell_type": "code",
   "execution_count": 2,
   "id": "6fa5b522",
   "metadata": {},
   "outputs": [
    {
     "data": {
      "text/html": [
       "<div>\n",
       "<style scoped>\n",
       "    .dataframe tbody tr th:only-of-type {\n",
       "        vertical-align: middle;\n",
       "    }\n",
       "\n",
       "    .dataframe tbody tr th {\n",
       "        vertical-align: top;\n",
       "    }\n",
       "\n",
       "    .dataframe thead th {\n",
       "        text-align: right;\n",
       "    }\n",
       "</style>\n",
       "<table border=\"1\" class=\"dataframe\">\n",
       "  <thead>\n",
       "    <tr style=\"text-align: right;\">\n",
       "      <th></th>\n",
       "      <th>Age</th>\n",
       "      <th>Income</th>\n",
       "      <th>Gender</th>\n",
       "      <th>Registered</th>\n",
       "      <th>City</th>\n",
       "    </tr>\n",
       "  </thead>\n",
       "  <tbody>\n",
       "    <tr>\n",
       "      <th>0</th>\n",
       "      <td>34.967142</td>\n",
       "      <td>28769.438869</td>\n",
       "      <td>Male</td>\n",
       "      <td>1.0</td>\n",
       "      <td>New York</td>\n",
       "    </tr>\n",
       "    <tr>\n",
       "      <th>1</th>\n",
       "      <td>28.617357</td>\n",
       "      <td>43690.320159</td>\n",
       "      <td>Female</td>\n",
       "      <td>0.0</td>\n",
       "      <td>Paris</td>\n",
       "    </tr>\n",
       "    <tr>\n",
       "      <th>2</th>\n",
       "      <td>36.476885</td>\n",
       "      <td>44859.282252</td>\n",
       "      <td>MALE</td>\n",
       "      <td>1.0</td>\n",
       "      <td>Tokyo</td>\n",
       "    </tr>\n",
       "    <tr>\n",
       "      <th>3</th>\n",
       "      <td>45.230299</td>\n",
       "      <td>37965.840962</td>\n",
       "      <td>FEMALE</td>\n",
       "      <td>0.0</td>\n",
       "      <td>Berlin</td>\n",
       "    </tr>\n",
       "    <tr>\n",
       "      <th>4</th>\n",
       "      <td>27.658466</td>\n",
       "      <td>47580.714325</td>\n",
       "      <td>male</td>\n",
       "      <td>1.0</td>\n",
       "      <td>New York</td>\n",
       "    </tr>\n",
       "  </tbody>\n",
       "</table>\n",
       "</div>"
      ],
      "text/plain": [
       "         Age        Income  Gender  Registered      City\n",
       "0  34.967142  28769.438869    Male         1.0  New York\n",
       "1  28.617357  43690.320159  Female         0.0     Paris\n",
       "2  36.476885  44859.282252    MALE         1.0     Tokyo\n",
       "3  45.230299  37965.840962  FEMALE         0.0    Berlin\n",
       "4  27.658466  47580.714325    male         1.0  New York"
      ]
     },
     "execution_count": 2,
     "metadata": {},
     "output_type": "execute_result"
    }
   ],
   "source": [
    "df = pd.read_csv(\"Synthetic_Data_Cleaning_example.csv\")\n",
    "df.head()"
   ]
  },
  {
   "cell_type": "markdown",
   "id": "294c7ae7",
   "metadata": {},
   "source": [
    "#### Exploratory Data Analysis"
   ]
  },
  {
   "cell_type": "code",
   "execution_count": 3,
   "id": "9dea2181",
   "metadata": {},
   "outputs": [
    {
     "name": "stdout",
     "output_type": "stream",
     "text": [
      "<class 'pandas.core.frame.DataFrame'>\n",
      "RangeIndex: 104 entries, 0 to 103\n",
      "Data columns (total 5 columns):\n",
      " #   Column      Non-Null Count  Dtype  \n",
      "---  ------      --------------  -----  \n",
      " 0   Age         103 non-null    float64\n",
      " 1   Income      103 non-null    float64\n",
      " 2   Gender      84 non-null     object \n",
      " 3   Registered  103 non-null    float64\n",
      " 4   City        103 non-null    object \n",
      "dtypes: float64(3), object(2)\n",
      "memory usage: 4.2+ KB\n",
      "None\n",
      "              Age         Income  Registered\n",
      "count  103.000000     103.000000  103.000000\n",
      "mean    29.573987   51079.867179    0.504854\n",
      "std     13.137300   21167.304578    0.502421\n",
      "min     -5.000000   -1000.000000    0.000000\n",
      "25%     23.988273   37726.305475    0.000000\n",
      "50%     28.843517   51028.444622    1.000000\n",
      "75%     34.967142   58315.989946    1.000000\n",
      "max    120.000000  200000.000000    1.000000\n",
      "Age            1\n",
      "Income         1\n",
      "Gender        20\n",
      "Registered     1\n",
      "City           1\n",
      "dtype: int64\n"
     ]
    }
   ],
   "source": [
    "print(df.info())\n",
    "print(df.describe())\n",
    "print(df.isnull().sum())"
   ]
  },
  {
   "cell_type": "code",
   "execution_count": 4,
   "id": "d0793ea6",
   "metadata": {},
   "outputs": [
    {
     "data": {
      "image/png": "[encoded data removed]",
      "text/plain": [
       "<Figure size 1000x600 with 4 Axes>"
      ]
     },
     "metadata": {},
     "output_type": "display_data"
    }
   ],
   "source": [
    "df.hist(figsize=(10, 6))\n",
    "plt.tight_layout()\n",
    "plt.show()"
   ]
  },
  {
   "cell_type": "markdown",
   "id": "91629739",
   "metadata": {},
   "source": [
    "#### Data Cleaning"
   ]
  },
  {
   "cell_type": "code",
   "execution_count": 5,
   "id": "2bd5c237",
   "metadata": {},
   "outputs": [
    {
     "name": "stdout",
     "output_type": "stream",
     "text": [
      "Gender\n",
      "Male      53\n",
      "Female    31\n",
      "Femle     10\n",
      "Femael    10\n",
      "Name: count, dtype: int64\n"
     ]
    }
   ],
   "source": [
    "\n",
    "# Normalize case (e.g., 'MALE', 'male', 'Male' -> 'Male')\n",
    "df['Gender'] = df['Gender'].str.strip().str.lower().str.capitalize()\n",
    "\n",
    "# Fill missing values with the mode\n",
    "df['Gender'] = df['Gender'].fillna(df['Gender'].mode()[0])\n",
    "\n",
    "# Check unique values\n",
    "print(df['Gender'].value_counts())"
   ]
  },
  {
   "cell_type": "code",
   "execution_count": 6,
   "id": "8f9668c9",
   "metadata": {},
   "outputs": [],
   "source": [
    "# Only 1 missing value, fill with median\n",
    "df['Age'] = df['Age'].fillna(df['Age'].median())"
   ]
  },
  {
   "cell_type": "code",
   "execution_count": 7,
   "id": "d9f4942f",
   "metadata": {},
   "outputs": [],
   "source": [
    "df = pd.get_dummies(df, columns=['Gender', 'City'], drop_first=True)"
   ]
  },
  {
   "cell_type": "code",
   "execution_count": 8,
   "id": "5ac63c38",
   "metadata": {},
   "outputs": [],
   "source": [
    "from sklearn.preprocessing import StandardScaler\n",
    "\n",
    "scaler = StandardScaler()\n",
    "df[['Age', 'Income']] = scaler.fit_transform(df[['Age', 'Income']])"
   ]
  },
  {
   "cell_type": "code",
   "execution_count": 9,
   "id": "0237014d",
   "metadata": {},
   "outputs": [
    {
     "name": "stdout",
     "output_type": "stream",
     "text": [
      "        Age    Income  Registered  Gender_Female  Gender_Femle  Gender_Male  \\\n",
      "0  0.415061 -1.059158         1.0          False         False         True   \n",
      "1 -0.072987 -0.350809         0.0           True         False        False   \n",
      "2  0.531101 -0.295314         1.0          False         False         True   \n",
      "3  1.203894 -0.622571         0.0           True         False        False   \n",
      "4 -0.146688 -0.166118         1.0          False         False         True   \n",
      "\n",
      "   City_New York  City_Paris  City_Tokyo  \n",
      "0           True       False       False  \n",
      "1          False        True       False  \n",
      "2          False       False        True  \n",
      "3          False       False       False  \n",
      "4           True       False       False  \n"
     ]
    }
   ],
   "source": [
    "print(df.head())"
   ]
  },
  {
   "cell_type": "markdown",
   "id": "6901825f",
   "metadata": {},
   "source": [
    "#### Variable Tranformations\n"
   ]
  },
  {
   "cell_type": "code",
   "execution_count": 10,
   "id": "d2971a59",
   "metadata": {},
   "outputs": [
    {
     "name": "stdout",
     "output_type": "stream",
     "text": [
      "     Income  Income_log       Age AgeGroup\n",
      "0 -1.059158         NaN  0.415061   Medium\n",
      "1 -0.350809   -0.432028 -0.072987      Low\n",
      "2 -0.295314   -0.350003  0.531101   Medium\n",
      "3 -0.622571   -0.974373  1.203894     High\n",
      "4 -0.166118   -0.181663 -0.146688      Low\n"
     ]
    },
    {
     "name": "stderr",
     "output_type": "stream",
     "text": [
      "c:\\Users\\elber\\AppData\\Local\\Programs\\Python\\Python311\\Lib\\site-packages\\pandas\\core\\arraylike.py:399: RuntimeWarning: invalid value encountered in log1p\n",
      "  result = getattr(ufunc, method)(*inputs, **kwargs)\n"
     ]
    }
   ],
   "source": [
    "df['Income_log'] = np.log1p(df['Income'])\n",
    "\n",
    "# Categorize Age into bins\n",
    "df['AgeGroup'] = pd.cut(df['Age'],\n",
    "                        bins=[-np.inf, -1.0, 0.0, 1.0, np.inf], \n",
    "                        labels=['Very Low', 'Low', 'Medium', 'High'])\n",
    "\n",
    "# Show transformed variables\n",
    "print(df[['Income', 'Income_log', 'Age', 'AgeGroup']].head())"
   ]
  },
  {
   "cell_type": "code",
   "execution_count": null,
   "id": "8f173544",
   "metadata": {},
   "outputs": [],
   "source": [
    "\n"
   ]
  },
  {
   "cell_type": "code",
   "execution_count": null,
   "id": "c9721593",
   "metadata": {},
   "outputs": [],
   "source": []
  },
  {
   "cell_type": "code",
   "execution_count": null,
   "id": "d8b8b803",
   "metadata": {},
   "outputs": [],
   "source": []
  },
  {
   "cell_type": "code",
   "execution_count": null,
   "id": "0789a968",
   "metadata": {},
   "outputs": [],
   "source": []
  },
  {
   "cell_type": "code",
   "execution_count": null,
   "id": "14f35a1c",
   "metadata": {},
   "outputs": [],
   "source": []
  },
  {
   "cell_type": "code",
   "execution_count": null,
   "id": "59d3cf1f",
   "metadata": {},
   "outputs": [],
   "source": []
  },
  {
   "cell_type": "code",
   "execution_count": null,
   "id": "ccf57755",
   "metadata": {},
   "outputs": [],
   "source": []
  },
  {
   "cell_type": "code",
   "execution_count": null,
   "id": "7986abfe",
   "metadata": {},
   "outputs": [],
   "source": []
  },
  {
   "cell_type": "code",
   "execution_count": null,
   "id": "6d355c3b",
   "metadata": {},
   "outputs": [],
   "source": []
  },
  {
   "cell_type": "code",
   "execution_count": null,
   "id": "a270a19f",
   "metadata": {},
   "outputs": [],
   "source": []
  }
 ],
 "metadata": {
  "kernelspec": {
   "display_name": "Python 3",
   "language": "python",
   "name": "python3"
  },
  "language_info": {
   "codemirror_mode": {
    "name": "ipython",
    "version": 3
   },
   "file_extension": ".py",
   "mimetype": "text/x-python",
   "name": "python",
   "nbconvert_exporter": "python",
   "pygments_lexer": "ipython3",
   "version": "3.11.0"
  }
 },
 "nbformat": 4,
 "nbformat_minor": 5
}
